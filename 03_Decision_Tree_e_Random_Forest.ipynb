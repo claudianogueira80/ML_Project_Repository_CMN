{
 "cells": [
  {
   "cell_type": "markdown",
   "id": "1caec9fe-7188-43b2-b114-5052d11ddc6d",
   "metadata": {},
   "source": [
    "# Decision Trees"
   ]
  },
  {
   "cell_type": "code",
   "execution_count": 1,
   "id": "7d10c555-617f-4a45-8caf-e5bb5930c407",
   "metadata": {
    "tags": []
   },
   "outputs": [],
   "source": [
    "import os\n",
    "import pandas as pd\n",
    "import numpy as np\n",
    "import matplotlib.pyplot as plt\n",
    "import seaborn as sns\n",
    "\n",
    "df = pd.read_csv(os.path.join('Customer-Churn-Records.csv'))"
   ]
  },
  {
   "cell_type": "code",
   "execution_count": 2,
   "id": "a3da1908-adc9-4d40-b885-c073a14e5f85",
   "metadata": {
    "tags": []
   },
   "outputs": [],
   "source": [
    "df = df.drop(columns=['Complain'])\n",
    "df = df.drop(columns=['HasCrCard'])\n",
    "df = df.drop(columns=['Surname'])\n",
    "df = df.drop(columns=['CustomerId'])\n",
    "df = df.drop(columns=['RowNumber'])"
   ]
  },
  {
   "cell_type": "code",
   "execution_count": 3,
   "id": "927643de-b75b-475e-be11-52c16de1a302",
   "metadata": {
    "tags": []
   },
   "outputs": [
    {
     "name": "stdout",
     "output_type": "stream",
     "text": [
      "Number of rows removed: 374\n",
      "Shape of DataFrame before removing outliers: (10000, 13)\n",
      "Shape of DataFrame after removing outliers: (9626, 13)\n"
     ]
    }
   ],
   "source": [
    "def remove_outliers(df, column):\n",
    "    Q1 = df[column].quantile(0.25)\n",
    "    Q3 = df[column].quantile(0.75)\n",
    "    IQR = Q3 - Q1\n",
    "    lower_bound = Q1 - 1.5 * IQR\n",
    "    upper_bound = Q3 + 1.5 * IQR\n",
    "    return df[(df[column] >= lower_bound) & (df[column] <= upper_bound)]\n",
    "\n",
    "numerical_columns = ['CreditScore', 'Age']\n",
    "\n",
    "df_no_outliers = df.copy()\n",
    "for col in numerical_columns:\n",
    "    df_no_outliers = remove_outliers(df_no_outliers, col)\n",
    "\n",
    "rows_removed = df.shape[0] - df_no_outliers.shape[0]\n",
    "print(f\"Number of rows removed: {rows_removed}\")\n",
    "print(f\"Shape of DataFrame before removing outliers: {df.shape}\")\n",
    "print(f\"Shape of DataFrame after removing outliers: {df_no_outliers.shape}\")"
   ]
  },
  {
   "cell_type": "code",
   "execution_count": 4,
   "id": "dc0a6c6b-240e-4b78-ae72-6b0bd62372eb",
   "metadata": {
    "tags": []
   },
   "outputs": [
    {
     "name": "stdout",
     "output_type": "stream",
     "text": [
      "<class 'pandas.core.frame.DataFrame'>\n",
      "RangeIndex: 10000 entries, 0 to 9999\n",
      "Data columns (total 13 columns):\n",
      " #   Column              Non-Null Count  Dtype  \n",
      "---  ------              --------------  -----  \n",
      " 0   CreditScore         10000 non-null  int64  \n",
      " 1   Geography           10000 non-null  object \n",
      " 2   Age                 10000 non-null  int64  \n",
      " 3   Tenure              10000 non-null  int64  \n",
      " 4   Balance             10000 non-null  float64\n",
      " 5   NumOfProducts       10000 non-null  int64  \n",
      " 6   IsActiveMember      10000 non-null  int64  \n",
      " 7   EstimatedSalary     10000 non-null  float64\n",
      " 8   Exited              10000 non-null  int64  \n",
      " 9   Satisfaction Score  10000 non-null  int64  \n",
      " 10  Card Type           10000 non-null  object \n",
      " 11  Point Earned        10000 non-null  int64  \n",
      " 12  Gender_Male         10000 non-null  bool   \n",
      "dtypes: bool(1), float64(2), int64(8), object(2)\n",
      "memory usage: 947.4+ KB\n"
     ]
    }
   ],
   "source": [
    "# one-hot encoding\n",
    "df = pd.get_dummies(df, columns=['Gender'], drop_first=True)\n",
    "df.info()"
   ]
  },
  {
   "cell_type": "markdown",
   "id": "357825aa-6392-4090-8150-d41659caaf8a",
   "metadata": {},
   "source": [
    "#### Para os modelos de Decision Tree e Random Forest, cremos que o Label Encoder para variáveis não binárias funcionará melhor."
   ]
  },
  {
   "cell_type": "code",
   "execution_count": 6,
   "id": "ba5f2daf-7e78-4d79-900e-b424d2abfc9a",
   "metadata": {
    "tags": []
   },
   "outputs": [
    {
     "name": "stdout",
     "output_type": "stream",
     "text": [
      "\n",
      "DataFrame after Label Encoding multiple columns:\n",
      "      CreditScore  Geography  Age  Tenure    Balance  NumOfProducts  \\\n",
      "0             619          0   42       2       0.00              1   \n",
      "1             608          2   41       1   83807.86              1   \n",
      "2             502          0   42       8  159660.80              3   \n",
      "3             699          0   39       1       0.00              2   \n",
      "4             850          2   43       2  125510.82              1   \n",
      "...           ...        ...  ...     ...        ...            ...   \n",
      "9995          771          0   39       5       0.00              2   \n",
      "9996          516          0   35      10   57369.61              1   \n",
      "9997          709          0   36       7       0.00              1   \n",
      "9998          772          1   42       3   75075.31              2   \n",
      "9999          792          0   28       4  130142.79              1   \n",
      "\n",
      "      IsActiveMember  EstimatedSalary  Exited  Satisfaction Score  Card Type  \\\n",
      "0                  1        101348.88       1                   2          0   \n",
      "1                  1        112542.58       0                   3          0   \n",
      "2                  0        113931.57       1                   3          0   \n",
      "3                  0         93826.63       0                   5          1   \n",
      "4                  1         79084.10       0                   5          1   \n",
      "...              ...              ...     ...                 ...        ...   \n",
      "9995               0         96270.64       0                   1          0   \n",
      "9996               1        101699.77       0                   5          2   \n",
      "9997               1         42085.58       1                   3          3   \n",
      "9998               0         92888.52       1                   2          1   \n",
      "9999               0         38190.78       0                   3          0   \n",
      "\n",
      "      Point Earned  Gender_Male  \n",
      "0              464        False  \n",
      "1              456        False  \n",
      "2              377        False  \n",
      "3              350        False  \n",
      "4              425        False  \n",
      "...            ...          ...  \n",
      "9995           300         True  \n",
      "9996           771         True  \n",
      "9997           564        False  \n",
      "9998           339         True  \n",
      "9999           911        False  \n",
      "\n",
      "[10000 rows x 13 columns]\n"
     ]
    }
   ],
   "source": [
    "from sklearn.preprocessing import LabelEncoder\n",
    "label_encoder = LabelEncoder()\n",
    "categorical_columns = ['Geography', 'Card Type']\n",
    "\n",
    "for col in categorical_columns:\n",
    "    df[col] = label_encoder.fit_transform(df[col]) \n",
    "\n",
    "print(\"\\nDataFrame after Label Encoding multiple columns:\") \n",
    "print(df)"
   ]
  },
  {
   "cell_type": "code",
   "execution_count": 7,
   "id": "36fa2b3d-7e6c-41b8-9a93-02966f2ff38b",
   "metadata": {
    "tags": []
   },
   "outputs": [
    {
     "name": "stdout",
     "output_type": "stream",
     "text": [
      "<class 'pandas.core.frame.DataFrame'>\n",
      "RangeIndex: 10000 entries, 0 to 9999\n",
      "Data columns (total 13 columns):\n",
      " #   Column              Non-Null Count  Dtype  \n",
      "---  ------              --------------  -----  \n",
      " 0   CreditScore         10000 non-null  int64  \n",
      " 1   Geography           10000 non-null  int32  \n",
      " 2   Age                 10000 non-null  int64  \n",
      " 3   Tenure              10000 non-null  int64  \n",
      " 4   Balance             10000 non-null  float64\n",
      " 5   NumOfProducts       10000 non-null  int64  \n",
      " 6   IsActiveMember      10000 non-null  int64  \n",
      " 7   EstimatedSalary     10000 non-null  float64\n",
      " 8   Exited              10000 non-null  int64  \n",
      " 9   Satisfaction Score  10000 non-null  int64  \n",
      " 10  Card Type           10000 non-null  int32  \n",
      " 11  Point Earned        10000 non-null  int64  \n",
      " 12  Gender_Male         10000 non-null  bool   \n",
      "dtypes: bool(1), float64(2), int32(2), int64(8)\n",
      "memory usage: 869.3 KB\n"
     ]
    }
   ],
   "source": [
    "df.info()"
   ]
  },
  {
   "cell_type": "code",
   "execution_count": 27,
   "id": "a0b57033-6216-44c3-8c97-1f95c153c46b",
   "metadata": {
    "tags": []
   },
   "outputs": [
    {
     "name": "stdout",
     "output_type": "stream",
     "text": [
      "Training Set:\n",
      "      CreditScore  Geography  Age  Tenure    Balance  NumOfProducts  \\\n",
      "7680          808          2   25       7       0.00              2   \n",
      "1837          561          0   56       7  152759.00              2   \n",
      "2920          696          0   33       4       0.00              2   \n",
      "2642          637          2   22       5   98800.00              1   \n",
      "4800          690          0   39       6       0.00              2   \n",
      "...           ...        ...  ...     ...        ...            ...   \n",
      "8134          577          0   41       6       0.00              1   \n",
      "4239          636          0   39       3  118336.14              1   \n",
      "4486          528          0   35       3  156687.10              1   \n",
      "541           622          0   26       9       0.00              2   \n",
      "8505          592          0   28       5  137222.77              1   \n",
      "\n",
      "      IsActiveMember  EstimatedSalary  Satisfaction Score  Card Type  \\\n",
      "7680               1         23180.37                   4          1   \n",
      "1837               0        133167.11                   2          1   \n",
      "2920               1         73371.65                   3          2   \n",
      "2642               0        122865.55                   2          3   \n",
      "4800               0        160532.88                   1          2   \n",
      "...              ...              ...                 ...        ...   \n",
      "8134               1        167621.18                   2          0   \n",
      "4239               0        184691.77                   3          1   \n",
      "4486               0        199320.77                   4          2   \n",
      "541                1        153237.59                   3          2   \n",
      "8505               0         39608.58                   4          0   \n",
      "\n",
      "      Point Earned  Gender_Male  Exited  \n",
      "7680           387         True       0  \n",
      "1837           377         True       1  \n",
      "2920           348        False       0  \n",
      "2642           430        False       0  \n",
      "4800           517         True       0  \n",
      "...            ...          ...     ...  \n",
      "8134           545         True       0  \n",
      "4239           349        False       0  \n",
      "4486           982         True       0  \n",
      "541            344         True       0  \n",
      "8505           282         True       0  \n",
      "\n",
      "[7000 rows x 13 columns]\n",
      "\n",
      "Testing Set:\n",
      "      CreditScore  Geography  Age  Tenure    Balance  NumOfProducts  \\\n",
      "6673          729          0   36       8  109106.80              1   \n",
      "5572          565          0   34       6       0.00              1   \n",
      "4478          549          0   31       4       0.00              2   \n",
      "8246          663          0   24       7       0.00              2   \n",
      "9545          721          2   57       1       0.00              1   \n",
      "...           ...        ...  ...     ...        ...            ...   \n",
      "9633          669          0   31       6  113000.66              1   \n",
      "3527          849          0   69       7   71996.09              1   \n",
      "8047          734          1   33       5  121898.58              1   \n",
      "7205          683          0   29       9       0.00              2   \n",
      "8023          664          0   36       1       0.00              2   \n",
      "\n",
      "      IsActiveMember  EstimatedSalary  Satisfaction Score  Card Type  \\\n",
      "6673               0        121311.12                   3          0   \n",
      "5572               1         63173.64                   5          1   \n",
      "4478               1         25684.85                   1          2   \n",
      "8246               1        166310.82                   4          2   \n",
      "9545               1        195940.96                   4          2   \n",
      "...              ...              ...                 ...        ...   \n",
      "9633               0         40467.82                   4          1   \n",
      "3527               1        139065.94                   2          1   \n",
      "8047               0         61829.89                   4          2   \n",
      "7205               1         48849.89                   3          1   \n",
      "8023               1         95372.64                   4          2   \n",
      "\n",
      "      Point Earned  Gender_Male  Exited  \n",
      "6673           456        False       0  \n",
      "5572           244         True       0  \n",
      "4478           427         True       0  \n",
      "8246           943         True       0  \n",
      "9545           226         True       0  \n",
      "...            ...          ...     ...  \n",
      "9633           655        False       0  \n",
      "3527           317         True       0  \n",
      "8047           659         True       0  \n",
      "7205           468        False       0  \n",
      "8023           507         True       0  \n",
      "\n",
      "[3000 rows x 13 columns]\n"
     ]
    }
   ],
   "source": [
    "from sklearn.model_selection import train_test_split\n",
    "\n",
    "X = df.drop(columns=['Exited'])\n",
    "y = df['Exited']\n",
    "\n",
    "# Dividir o dataset\n",
    "X_train, X_test, y_train, y_test = train_test_split(X, y, test_size=0.3, stratify=y, random_state=42)\n",
    "\n",
    "train_df = X_train.copy()\n",
    "train_df['Exited'] = y_train\n",
    "\n",
    "test_df = X_test.copy()\n",
    "test_df['Exited'] = y_test\n",
    "\n",
    "#Impressão\n",
    "print(\"Training Set:\")\n",
    "print(train_df)\n",
    "print(\"\\nTesting Set:\")\n",
    "print(test_df)"
   ]
  },
  {
   "cell_type": "code",
   "execution_count": 12,
   "id": "cf5b002e-3174-44b7-a20c-ef6e57d12a13",
   "metadata": {
    "tags": []
   },
   "outputs": [],
   "source": [
    "from sklearn.tree import DecisionTreeClassifier\n",
    "from sklearn.metrics import classification_report, confusion_matrix, roc_auc_score"
   ]
  },
  {
   "cell_type": "code",
   "execution_count": 28,
   "id": "2ec183a8-bd9a-42b7-b116-9f9264a48660",
   "metadata": {
    "tags": []
   },
   "outputs": [
    {
     "name": "stdout",
     "output_type": "stream",
     "text": [
      "Classification Report:\n",
      "              precision    recall  f1-score   support\n",
      "\n",
      "           0       0.88      0.84      0.86      2389\n",
      "           1       0.46      0.53      0.49       611\n",
      "\n",
      "    accuracy                           0.78      3000\n",
      "   macro avg       0.67      0.69      0.68      3000\n",
      "weighted avg       0.79      0.78      0.78      3000\n",
      "\n",
      "\n",
      "Confusion Matrix:\n",
      "[[2010  379]\n",
      " [ 286  325]]\n",
      "\n",
      "AUC-ROC Score:\n",
      "0.6866355548034875\n"
     ]
    }
   ],
   "source": [
    "\n",
    "# Modelo Decision Tree \n",
    "dtree = DecisionTreeClassifier(random_state=42)\n",
    "dtree.fit(X_train, y_train)\n",
    "\n",
    "# Prever no teste\n",
    "y_pred = dtree.predict(X_test)\n",
    "y_pred_prob = dtree.predict_proba(X_test)[:, 1]\n",
    "\n",
    "\n",
    "# Avaliar o modelo\n",
    "print(\"Classification Report:\")\n",
    "print(classification_report(y_test, y_pred))\n",
    "print(\"\\nConfusion Matrix:\")\n",
    "print(confusion_matrix(y_test, y_pred))\n",
    "print(\"\\nAUC-ROC Score:\")\n",
    "print(roc_auc_score(y_test, y_pred_prob))\n",
    "\n"
   ]
  },
  {
   "cell_type": "code",
   "execution_count": 30,
   "id": "5e698ce3-069d-418b-b010-0c8105a67809",
   "metadata": {
    "tags": []
   },
   "outputs": [],
   "source": [
    "from imblearn.over_sampling import SMOTE\n",
    "# Aplicar a mesma tecnica SMOTE para lidar com o facto de termos poucos 1s na target e tentar obter melhores resultados.\n",
    "smote = SMOTE(random_state=42)\n",
    "\n",
    "X_train_res, y_train_res = smote.fit_resample(X_train, y_train)\n"
   ]
  },
  {
   "cell_type": "code",
   "execution_count": 31,
   "id": "d8cc51bf-233f-4f14-9d50-3893a098d0fa",
   "metadata": {
    "tags": []
   },
   "outputs": [
    {
     "name": "stdout",
     "output_type": "stream",
     "text": [
      "Classification Report:\n",
      "              precision    recall  f1-score   support\n",
      "\n",
      "           0       0.90      0.77      0.83      2389\n",
      "           1       0.42      0.65      0.51       611\n",
      "\n",
      "    accuracy                           0.74      3000\n",
      "   macro avg       0.66      0.71      0.67      3000\n",
      "weighted avg       0.80      0.74      0.76      3000\n",
      "\n",
      "\n",
      "Confusion Matrix:\n",
      "[[1833  556]\n",
      " [ 213  398]]\n",
      "\n",
      "AUC-ROC Score:\n",
      "0.7093289003952239\n"
     ]
    }
   ],
   "source": [
    "\n",
    "# Modelo Decision Tree\n",
    "dtree = DecisionTreeClassifier(random_state=42)\n",
    "dtree.fit(X_train_res, y_train_res)\n",
    "\n",
    "# Prever no teste\n",
    "y_pred = dtree.predict(X_test)\n",
    "y_pred_prob = dtree.predict_proba(X_test)[:, 1]\n",
    "\n",
    "\n",
    "# Avaliar\n",
    "print(\"Classification Report:\")\n",
    "print(classification_report(y_test, y_pred))\n",
    "print(\"\\nConfusion Matrix:\")\n",
    "print(confusion_matrix(y_test, y_pred))\n",
    "print(\"\\nAUC-ROC Score:\")\n",
    "print(roc_auc_score(y_test, y_pred_prob))\n",
    "\n"
   ]
  },
  {
   "cell_type": "markdown",
   "id": "ce1f5fa6-a00c-4c7b-8806-beb8c540ba41",
   "metadata": {},
   "source": [
    "#### Aplicar a técnica de GridSearchCV para melhorar o modelo."
   ]
  },
  {
   "cell_type": "code",
   "execution_count": 32,
   "id": "dfa2ed3d-a86c-4d52-bb9d-fa90ea91772b",
   "metadata": {
    "tags": []
   },
   "outputs": [
    {
     "name": "stdout",
     "output_type": "stream",
     "text": [
      "Best parameters found:  {'max_depth': 10, 'min_samples_leaf': 4, 'min_samples_split': 10}\n",
      "Classification Report (Best Model):\n",
      "              precision    recall  f1-score   support\n",
      "\n",
      "           0       0.90      0.78      0.84      2389\n",
      "           1       0.45      0.68      0.54       611\n",
      "\n",
      "    accuracy                           0.76      3000\n",
      "   macro avg       0.67      0.73      0.69      3000\n",
      "weighted avg       0.81      0.76      0.78      3000\n",
      "\n",
      "\n",
      "Confusion Matrix (Best Model):\n",
      "[[1874  515]\n",
      " [ 198  413]]\n",
      "\n",
      "AUC-ROC Score (Best Model):\n",
      "0.8020191425649065\n"
     ]
    }
   ],
   "source": [
    "from sklearn.model_selection import StratifiedShuffleSplit, GridSearchCV\n",
    "\n",
    "param_grid = {\n",
    "    'max_depth': [None, 10, 20, 30, 40, 50],\n",
    "    'min_samples_split': [2, 5, 10],\n",
    "    'min_samples_leaf': [1, 2, 4]\n",
    "}\n",
    "\n",
    "grid_search = GridSearchCV(estimator=dtree, param_grid=param_grid, cv=5, scoring='roc_auc', n_jobs=-1)\n",
    "grid_search.fit(X_train_res, y_train_res)\n",
    "\n",
    "print(\"Best parameters found: \", grid_search.best_params_)\n",
    "\n",
    "# Prever com o parametro que melhor estima\n",
    "y_pred_best = grid_search.best_estimator_.predict(X_test)\n",
    "y_pred_prob_best = grid_search.best_estimator_.predict_proba(X_test)[:, 1]\n",
    "\n",
    "# Avaliar\n",
    "print(\"Classification Report (Best Model):\")\n",
    "print(classification_report(y_test, y_pred_best))\n",
    "print(\"\\nConfusion Matrix (Best Model):\")\n",
    "print(confusion_matrix(y_test, y_pred_best))\n",
    "print(\"\\nAUC-ROC Score (Best Model):\")\n",
    "print(roc_auc_score(y_test, y_pred_prob_best))\n"
   ]
  },
  {
   "cell_type": "markdown",
   "id": "4ce238ad-b7f9-43db-8d41-9bad3a9981ac",
   "metadata": {
    "tags": []
   },
   "source": [
    "# Random Forest"
   ]
  },
  {
   "cell_type": "code",
   "execution_count": 21,
   "id": "f905e7f7-c43d-483d-8466-acb22020577a",
   "metadata": {
    "tags": []
   },
   "outputs": [],
   "source": [
    "from sklearn.ensemble import RandomForestClassifier"
   ]
  },
  {
   "cell_type": "code",
   "execution_count": 23,
   "id": "d61a2601-5d39-4829-b888-7d22e6a87cd1",
   "metadata": {
    "tags": []
   },
   "outputs": [
    {
     "name": "stdout",
     "output_type": "stream",
     "text": [
      "Classification Report:\n",
      "              precision    recall  f1-score   support\n",
      "\n",
      "           0       0.90      0.86      0.88      2389\n",
      "           1       0.55      0.64      0.59       611\n",
      "\n",
      "    accuracy                           0.82      3000\n",
      "   macro avg       0.73      0.75      0.74      3000\n",
      "weighted avg       0.83      0.82      0.82      3000\n",
      "\n",
      "\n",
      "Confusion Matrix:\n",
      "[[2063  326]\n",
      " [ 217  394]]\n",
      "\n",
      "AUC-ROC Score:\n",
      "0.8440927765625181\n"
     ]
    }
   ],
   "source": [
    "# Modelo Random Forest\n",
    "rf = RandomForestClassifier(random_state=42)\n",
    "rf.fit(X_train_res, y_train_res)\n",
    "\n",
    "# Prever no teste\n",
    "y_pred = rf.predict(X_test)\n",
    "y_pred_prob = rf.predict_proba(X_test)[:, 1]\n",
    "\n",
    "# Avaliar\n",
    "print(\"Classification Report:\")\n",
    "print(classification_report(y_test, y_pred))\n",
    "print(\"\\nConfusion Matrix:\")\n",
    "print(confusion_matrix(y_test, y_pred))\n",
    "print(\"\\nAUC-ROC Score:\")\n",
    "print(roc_auc_score(y_test, y_pred_prob))\n"
   ]
  },
  {
   "cell_type": "code",
   "execution_count": 24,
   "id": "2b86597e-d2be-467c-b3ee-d5253ce88964",
   "metadata": {
    "tags": []
   },
   "outputs": [
    {
     "name": "stdout",
     "output_type": "stream",
     "text": [
      "Best parameters found:  {'max_depth': None, 'min_samples_leaf': 1, 'min_samples_split': 2, 'n_estimators': 200}\n",
      "Classification Report (Best Model):\n",
      "              precision    recall  f1-score   support\n",
      "\n",
      "           0       0.91      0.87      0.89      2389\n",
      "           1       0.56      0.65      0.60       611\n",
      "\n",
      "    accuracy                           0.82      3000\n",
      "   macro avg       0.73      0.76      0.74      3000\n",
      "weighted avg       0.84      0.82      0.83      3000\n",
      "\n",
      "\n",
      "Confusion Matrix (Best Model):\n",
      "[[2072  317]\n",
      " [ 214  397]]\n",
      "\n",
      "AUC-ROC Score (Best Model):\n",
      "0.8470447954653043\n"
     ]
    }
   ],
   "source": [
    "\n",
    "# Aplicar a mesma técnica de GridSearchCV\n",
    "param_grid = {\n",
    "    'n_estimators': [50, 100, 200],\n",
    "    'max_depth': [None, 10, 20],\n",
    "    'min_samples_split': [2, 5, 10],\n",
    "    'min_samples_leaf': [1, 2, 4]\n",
    "}\n",
    "\n",
    "\n",
    "grid_search = GridSearchCV(estimator=rf, param_grid=param_grid, cv=5, scoring='roc_auc', n_jobs=-1)\n",
    "grid_search.fit(X_train_res, y_train_res)\n",
    "\n",
    "print(\"Best parameters found: \", grid_search.best_params_)\n",
    "\n",
    "# Prever\n",
    "y_pred_best = grid_search.best_estimator_.predict(X_test)\n",
    "y_pred_prob_best = grid_search.best_estimator_.predict_proba(X_test)[:, 1]\n",
    "\n",
    "\n",
    "# Avaliar\n",
    "print(\"Classification Report (Best Model):\")\n",
    "print(classification_report(y_test, y_pred_best))\n",
    "print(\"\\nConfusion Matrix (Best Model):\")\n",
    "print(confusion_matrix(y_test, y_pred_best))\n",
    "print(\"\\nAUC-ROC Score (Best Model):\")\n",
    "print(roc_auc_score(y_test, y_pred_prob_best))"
   ]
  },
  {
   "cell_type": "markdown",
   "id": "303f51be-22e1-489e-91c7-babd4a29f2b5",
   "metadata": {},
   "source": [
    "### Considerações finais"
   ]
  },
  {
   "cell_type": "markdown",
   "id": "c25f6b5c-a4b5-4bda-8123-4b6451337e3d",
   "metadata": {},
   "source": [
    "Aparentemente o modelo Random Forest, com a aplicação da tecnica Grid Search, tem o melhor desempenho.<br>\n",
    "Ainda assim, não é ideal.<br>\n",
    "Resultado: Accuracy: 0.82 Precision (churn): 0.56 Recall (churn): 0.65 F1-score (churn): 0.60 AUC-ROC Score: 0.85 <br>\n",
    "Apenas conseguimos prever 65% dos clientes que realmente abandonarão (recall). Ou seja, 35% dos clientes que abandonaram , nós não conseguimos prever ( e posteriormente evitar). Assim sendo, interessa-nos minimizar os falsos negativos ao máximo possivel, deveriamos investir em otimizar o modelo para aumentar o recall, sem comprometer demasiado os restantes indicadores."
   ]
  },
  {
   "cell_type": "code",
   "execution_count": null,
   "id": "e3408a68-a882-4216-85ce-98df5ec524f5",
   "metadata": {},
   "outputs": [],
   "source": []
  }
 ],
 "metadata": {
  "kernelspec": {
   "display_name": "Python 3 (ipykernel)",
   "language": "python",
   "name": "python3"
  },
  "language_info": {
   "codemirror_mode": {
    "name": "ipython",
    "version": 3
   },
   "file_extension": ".py",
   "mimetype": "text/x-python",
   "name": "python",
   "nbconvert_exporter": "python",
   "pygments_lexer": "ipython3",
   "version": "3.11.5"
  }
 },
 "nbformat": 4,
 "nbformat_minor": 5
}
